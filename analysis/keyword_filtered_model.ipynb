{
 "cells": [
  {
   "cell_type": "code",
   "execution_count": 8,
   "metadata": {},
   "outputs": [
    {
     "name": "stderr",
     "output_type": "stream",
     "text": [
      "/Users/vincentleonardo/.virtualenvs/2021-11_Synthesis_Sustainability/lib/python3.9/site-packages/IPython/core/interactiveshell.py:3444: DtypeWarning: Columns (7,9) have mixed types.Specify dtype option on import or set low_memory=False.\n",
      "  exec(code_obj, self.user_global_ns, self.user_ns)\n"
     ]
    },
    {
     "name": "stdout",
     "output_type": "stream",
     "text": [
      "Surprise to see food hanging on gate this morning.  Thank you to my sweet nice neighbour @anonymised_user  for yummy Raya breakfast.  Sentiment(polarity=0.475, subjectivity=0.825)\n"
     ]
    },
    {
     "name": "stderr",
     "output_type": "stream",
     "text": [
      "/var/folders/x1/zp6kq1kj15v_md17wpr_q_n40000gn/T/ipykernel_23872/1529438814.py:19: SettingWithCopyWarning: \n",
      "A value is trying to be set on a copy of a slice from a DataFrame.\n",
      "Try using .loc[row_indexer,col_indexer] = value instead\n",
      "\n",
      "See the caveats in the documentation: https://pandas.pydata.org/pandas-docs/stable/user_guide/indexing.html#returning-a-view-versus-a-copy\n",
      "  ig_food['sentiment'] = ig_food['post_caption'].apply(lambda tweet: TextBlob(tweet).sentiment)\n"
     ]
    }
   ],
   "source": [
    "import pandas as pd\n",
    "from textblob import TextBlob\n",
    "import logging\n",
    "import numpy as np\n",
    "from numpy import random\n",
    "import gensim\n",
    "import nltk\n",
    "import lxml\n",
    "from sklearn.model_selection import train_test_split\n",
    "from sklearn.feature_extraction.text import CountVectorizer, TfidfVectorizer\n",
    "from sklearn.metrics import accuracy_score, confusion_matrix, classification_report\n",
    "import matplotlib.pyplot as plt\n",
    "\n",
    "%matplotlib inline\n",
    "\n",
    "ig = pd.read_csv(\"../dataset/tsv/event_ig_p5y.tsv\", sep=\"\\t\")\n",
    "searchfor = [\" food \",\" eat \",\" makan \",\" steam \",\" boil \",\" ingredient \",\" roast \",\" chicken \",\" beef \",\" pork \",\" rice \",\" noodle \"]\n",
    "ig_food = ig[ig['post_caption'].str.contains('|'.join(searchfor), case=False, na=False)]\n",
    "ig_food['sentiment'] = ig_food['post_caption'].apply(lambda tweet: TextBlob(tweet).sentiment)\n",
    "print(ig_food['post_caption'].values[2], ig_food['sentiment'].values[2]) # to read post and their sentiments"
   ]
  },
  {
   "cell_type": "code",
   "execution_count": 9,
   "metadata": {},
   "outputs": [
    {
     "data": {
      "text/html": [
       "<div>\n",
       "<style scoped>\n",
       "    .dataframe tbody tr th:only-of-type {\n",
       "        vertical-align: middle;\n",
       "    }\n",
       "\n",
       "    .dataframe tbody tr th {\n",
       "        vertical-align: top;\n",
       "    }\n",
       "\n",
       "    .dataframe thead th {\n",
       "        text-align: right;\n",
       "    }\n",
       "</style>\n",
       "<table border=\"1\" class=\"dataframe\">\n",
       "  <thead>\n",
       "    <tr style=\"text-align: right;\">\n",
       "      <th></th>\n",
       "      <th>user_id</th>\n",
       "      <th>user_name</th>\n",
       "      <th>post_id</th>\n",
       "      <th>post_shortcode</th>\n",
       "      <th>post_type</th>\n",
       "      <th>post_date</th>\n",
       "      <th>post_caption</th>\n",
       "      <th>post_tagged_users</th>\n",
       "      <th>post_hashtags</th>\n",
       "      <th>post_mentions</th>\n",
       "      <th>post_comments</th>\n",
       "      <th>post_likes</th>\n",
       "      <th>segment_name</th>\n",
       "      <th>sentiment</th>\n",
       "    </tr>\n",
       "  </thead>\n",
       "  <tbody>\n",
       "    <tr>\n",
       "      <th>1</th>\n",
       "      <td>5db747f4e877ca2f15e72df13b06fd562df48403b95392...</td>\n",
       "      <td>thick-curassow-of-stimulating-authority</td>\n",
       "      <td>2579202108475507200</td>\n",
       "      <td>CPLKqcHnwJx</td>\n",
       "      <td>image</td>\n",
       "      <td>2021-05-22 12:01:12</td>\n",
       "      <td>I start to play with all kinds of ingredients ...</td>\n",
       "      <td>NaN</td>\n",
       "      <td>NaN</td>\n",
       "      <td>NaN</td>\n",
       "      <td>1.0</td>\n",
       "      <td>18.0</td>\n",
       "      <td>Optimistic Providers</td>\n",
       "      <td>(0.25, 0.75)</td>\n",
       "    </tr>\n",
       "    <tr>\n",
       "      <th>11</th>\n",
       "      <td>5db747f4e877ca2f15e72df13b06fd562df48403b95392...</td>\n",
       "      <td>portable-strict-hedgehog-from-saturn</td>\n",
       "      <td>2466869157390242304</td>\n",
       "      <td>CI8FG25nNLh</td>\n",
       "      <td>image</td>\n",
       "      <td>2020-12-18 12:15:41</td>\n",
       "      <td>Thank you @anonymised_user for the Advance Chr...</td>\n",
       "      <td>NaN</td>\n",
       "      <td>NaN</td>\n",
       "      <td>NaN</td>\n",
       "      <td>1.0</td>\n",
       "      <td>21.0</td>\n",
       "      <td>Optimistic Providers</td>\n",
       "      <td>(-0.6, 0.95)</td>\n",
       "    </tr>\n",
       "    <tr>\n",
       "      <th>27</th>\n",
       "      <td>5db747f4e877ca2f15e72df13b06fd562df48403b95392...</td>\n",
       "      <td>busy-teal-wapiti-of-education</td>\n",
       "      <td>2315810443056404992</td>\n",
       "      <td>CAjaVQJhFka</td>\n",
       "      <td>image</td>\n",
       "      <td>2020-05-24 02:08:59</td>\n",
       "      <td>Surprise to see food hanging on gate this morn...</td>\n",
       "      <td>NaN</td>\n",
       "      <td>NaN</td>\n",
       "      <td>NaN</td>\n",
       "      <td>0.0</td>\n",
       "      <td>26.0</td>\n",
       "      <td>Optimistic Providers</td>\n",
       "      <td>(0.475, 0.825)</td>\n",
       "    </tr>\n",
       "    <tr>\n",
       "      <th>29</th>\n",
       "      <td>5db747f4e877ca2f15e72df13b06fd562df48403b95392...</td>\n",
       "      <td>vague-esoteric-labrador-of-elegance</td>\n",
       "      <td>2282467869361281280</td>\n",
       "      <td>B-s9G8khZt-</td>\n",
       "      <td>image</td>\n",
       "      <td>2020-04-08 02:03:14</td>\n",
       "      <td>@anonymised_user  DAY 1 : HBL home canteen foo...</td>\n",
       "      <td>NaN</td>\n",
       "      <td>NaN</td>\n",
       "      <td>NaN</td>\n",
       "      <td>1.0</td>\n",
       "      <td>18.0</td>\n",
       "      <td>Optimistic Providers</td>\n",
       "      <td>(0.0, 0.0)</td>\n",
       "    </tr>\n",
       "    <tr>\n",
       "      <th>60</th>\n",
       "      <td>7d47b5c439cc78762803f97b3a22f91ab411ab1ca05af4...</td>\n",
       "      <td>phenomenal-optimal-anteater-of-force</td>\n",
       "      <td>2503599011410180096</td>\n",
       "      <td>CK-kglHH3XI</td>\n",
       "      <td>image</td>\n",
       "      <td>2021-02-07 04:31:21</td>\n",
       "      <td>Love this rice bag bucket hat!!! Fits nicely i...</td>\n",
       "      <td>NaN</td>\n",
       "      <td>#vivicheosg|#cute|#ricebagcollection|#loveyour...</td>\n",
       "      <td>NaN</td>\n",
       "      <td>4.0</td>\n",
       "      <td>45.0</td>\n",
       "      <td>Optimistic Providers</td>\n",
       "      <td>(0.5553125, 0.6599999999999999)</td>\n",
       "    </tr>\n",
       "  </tbody>\n",
       "</table>\n",
       "</div>"
      ],
      "text/plain": [
       "                                              user_id  \\\n",
       "1   5db747f4e877ca2f15e72df13b06fd562df48403b95392...   \n",
       "11  5db747f4e877ca2f15e72df13b06fd562df48403b95392...   \n",
       "27  5db747f4e877ca2f15e72df13b06fd562df48403b95392...   \n",
       "29  5db747f4e877ca2f15e72df13b06fd562df48403b95392...   \n",
       "60  7d47b5c439cc78762803f97b3a22f91ab411ab1ca05af4...   \n",
       "\n",
       "                                  user_name              post_id  \\\n",
       "1   thick-curassow-of-stimulating-authority  2579202108475507200   \n",
       "11     portable-strict-hedgehog-from-saturn  2466869157390242304   \n",
       "27            busy-teal-wapiti-of-education  2315810443056404992   \n",
       "29      vague-esoteric-labrador-of-elegance  2282467869361281280   \n",
       "60     phenomenal-optimal-anteater-of-force  2503599011410180096   \n",
       "\n",
       "   post_shortcode post_type            post_date  \\\n",
       "1     CPLKqcHnwJx     image  2021-05-22 12:01:12   \n",
       "11    CI8FG25nNLh     image  2020-12-18 12:15:41   \n",
       "27    CAjaVQJhFka     image  2020-05-24 02:08:59   \n",
       "29    B-s9G8khZt-     image  2020-04-08 02:03:14   \n",
       "60    CK-kglHH3XI     image  2021-02-07 04:31:21   \n",
       "\n",
       "                                         post_caption post_tagged_users  \\\n",
       "1   I start to play with all kinds of ingredients ...               NaN   \n",
       "11  Thank you @anonymised_user for the Advance Chr...               NaN   \n",
       "27  Surprise to see food hanging on gate this morn...               NaN   \n",
       "29  @anonymised_user  DAY 1 : HBL home canteen foo...               NaN   \n",
       "60  Love this rice bag bucket hat!!! Fits nicely i...               NaN   \n",
       "\n",
       "                                        post_hashtags post_mentions  \\\n",
       "1                                                 NaN           NaN   \n",
       "11                                                NaN           NaN   \n",
       "27                                                NaN           NaN   \n",
       "29                                                NaN           NaN   \n",
       "60  #vivicheosg|#cute|#ricebagcollection|#loveyour...           NaN   \n",
       "\n",
       "    post_comments  post_likes          segment_name  \\\n",
       "1             1.0        18.0  Optimistic Providers   \n",
       "11            1.0        21.0  Optimistic Providers   \n",
       "27            0.0        26.0  Optimistic Providers   \n",
       "29            1.0        18.0  Optimistic Providers   \n",
       "60            4.0        45.0  Optimistic Providers   \n",
       "\n",
       "                          sentiment  \n",
       "1                      (0.25, 0.75)  \n",
       "11                     (-0.6, 0.95)  \n",
       "27                   (0.475, 0.825)  \n",
       "29                       (0.0, 0.0)  \n",
       "60  (0.5553125, 0.6599999999999999)  "
      ]
     },
     "execution_count": 9,
     "metadata": {},
     "output_type": "execute_result"
    }
   ],
   "source": [
    "ig_food.head()"
   ]
  },
  {
   "cell_type": "code",
   "execution_count": 10,
   "metadata": {},
   "outputs": [
    {
     "name": "stderr",
     "output_type": "stream",
     "text": [
      "/Users/vincentleonardo/.virtualenvs/2021-11_Synthesis_Sustainability/lib/python3.9/site-packages/pandas/core/generic.py:5516: SettingWithCopyWarning: \n",
      "A value is trying to be set on a copy of a slice from a DataFrame.\n",
      "Try using .loc[row_indexer,col_indexer] = value instead\n",
      "\n",
      "See the caveats in the documentation: https://pandas.pydata.org/pandas-docs/stable/user_guide/indexing.html#returning-a-view-versus-a-copy\n",
      "  self[name] = value\n"
     ]
    },
    {
     "data": {
      "text/plain": [
       "2161946"
      ]
     },
     "execution_count": 10,
     "metadata": {},
     "output_type": "execute_result"
    }
   ],
   "source": [
    "ig_food.post_caption = ig_food.post_caption.astype('str')\n",
    "ig_food = ig_food[ig_food['segment_name'].notna()]\n",
    "ig_food['post_caption'].apply(lambda x: len(x.split(\" \"))).sum()"
   ]
  },
  {
   "cell_type": "code",
   "execution_count": 12,
   "metadata": {},
   "outputs": [
    {
     "data": {
      "image/png": "[encoded data removed]",
      "text/plain": [
       "<Figure size 720x504 with 1 Axes>"
      ]
     },
     "metadata": {
      "needs_background": "light"
     },
     "output_type": "display_data"
    }
   ],
   "source": [
    "plt.figure(figsize=(10,7))\n",
    "ig_food.segment_name.value_counts().plot(kind='bar');"
   ]
  },
  {
   "cell_type": "code",
   "execution_count": 18,
   "metadata": {},
   "outputs": [
    {
     "data": {
      "text/plain": [
       "(array([2.3476e+04, 7.1000e+01, 1.6000e+01, 7.0000e+00, 9.0000e+00,\n",
       "        6.0000e+00, 3.0000e+00, 1.0000e+00, 3.0000e+00, 1.0000e+00,\n",
       "        0.0000e+00, 0.0000e+00, 0.0000e+00, 1.0000e+00, 0.0000e+00,\n",
       "        0.0000e+00, 1.0000e+00, 0.0000e+00, 0.0000e+00, 0.0000e+00,\n",
       "        0.0000e+00, 0.0000e+00, 0.0000e+00, 0.0000e+00, 1.0000e+00,\n",
       "        0.0000e+00, 0.0000e+00, 0.0000e+00, 0.0000e+00, 1.0000e+00]),\n",
       " array([  0. ,  30.1,  60.2,  90.3, 120.4, 150.5, 180.6, 210.7, 240.8,\n",
       "        270.9, 301. , 331.1, 361.2, 391.3, 421.4, 451.5, 481.6, 511.7,\n",
       "        541.8, 571.9, 602. , 632.1, 662.2, 692.3, 722.4, 752.5, 782.6,\n",
       "        812.7, 842.8, 872.9, 903. ]),\n",
       " <BarContainer object of 30 artists>)"
      ]
     },
     "execution_count": 18,
     "metadata": {},
     "output_type": "execute_result"
    },
    {
     "data": {
      "image/png": "[encoded data removed]",
      "text/plain": [
       "<Figure size 432x288 with 1 Axes>"
      ]
     },
     "metadata": {
      "needs_background": "light"
     },
     "output_type": "display_data"
    }
   ],
   "source": [
    "plt.hist(ig_food.post_comments[ig_food.post_comments <= 1000], bins=30)"
   ]
  },
  {
   "cell_type": "markdown",
   "metadata": {},
   "source": [
    "# Using BERT"
   ]
  },
  {
   "cell_type": "code",
   "execution_count": 19,
   "metadata": {},
   "outputs": [],
   "source": [
    "model_name = \"bert-base-multilingual-uncased\"\n",
    "max_length = 512"
   ]
  },
  {
   "cell_type": "code",
   "execution_count": 20,
   "metadata": {},
   "outputs": [
    {
     "ename": "ModuleNotFoundError",
     "evalue": "No module named 'transformers'",
     "output_type": "error",
     "traceback": [
      "\u001b[0;31m---------------------------------------------------------------------------\u001b[0m",
      "\u001b[0;31mModuleNotFoundError\u001b[0m                       Traceback (most recent call last)",
      "\u001b[0;32m/var/folders/x1/zp6kq1kj15v_md17wpr_q_n40000gn/T/ipykernel_23872/1876045452.py\u001b[0m in \u001b[0;36m<module>\u001b[0;34m\u001b[0m\n\u001b[0;32m----> 1\u001b[0;31m \u001b[0;32mfrom\u001b[0m \u001b[0mtransformers\u001b[0m \u001b[0;32mimport\u001b[0m \u001b[0mBertTokenizerFast\u001b[0m\u001b[0;34m\u001b[0m\u001b[0;34m\u001b[0m\u001b[0m\n\u001b[0m",
      "\u001b[0;31mModuleNotFoundError\u001b[0m: No module named 'transformers'"
     ]
    }
   ],
   "source": [
    "from transformers import BertTokenizerFast"
   ]
  }
 ],
 "metadata": {
  "interpreter": {
   "hash": "5509cb37a50051b6403ab7dacfdce4a6a1e1f0d4a824e63fc34f4d9d3c82ac7f"
  },
  "kernelspec": {
   "display_name": "Python 3.9.7 64-bit ('2021-11_Synthesis_Sustainability': virtualenv)",
   "language": "python",
   "name": "python3"
  },
  "language_info": {
   "codemirror_mode": {
    "name": "ipython",
    "version": 3
   },
   "file_extension": ".py",
   "mimetype": "text/x-python",
   "name": "python",
   "nbconvert_exporter": "python",
   "pygments_lexer": "ipython3",
   "version": "3.8.11"
  },
  "orig_nbformat": 4
 },
 "nbformat": 4,
 "nbformat_minor": 2
}
